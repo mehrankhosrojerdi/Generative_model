{
  "cells": [
    {
      "cell_type": "code",
      "execution_count": 115,
      "metadata": {},
      "outputs": [],
      "source": [
        "import numpy as np\n",
        "import matplotlib.pyplot as plt\n",
        "import scipy.sparse as sps"
      ]
    },
    {
      "cell_type": "markdown",
      "metadata": {},
      "source": [
        "### <span style=\"color:red;\"> Preparing Circuit </span>\n",
        "#### For making the Circuits first of all we should make gates. based on this article we will make this by Scipy library whereas we can make it by quimb, ITensor and tensorflow\n"
      ]
    },
    {
      "cell_type": "markdown",
      "metadata": {},
      "source": [
        "Pauli Matrices "
      ]
    },
    {
      "cell_type": "code",
      "execution_count": 116,
      "metadata": {},
      "outputs": [],
      "source": [
        "######  Pauli Matrices  ########\n",
        "I2 = sps.eye(2).tocsr()\n",
        "sx = sps.csr_matrix([[0,1],[1,0.]])\n",
        "sy = sps.csr_matrix([[0,-1j],[1j,0.]])\n",
        "sz = sps.csr_matrix([[1,0],[0,-1.]])\n",
        "\n",
        "p0 = (sz + I2) / 2   #projection operator to |0><0|\n",
        "p1 = (-sz + I2) / 2"
      ]
    },
    {
      "cell_type": "markdown",
      "metadata": {},
      "source": [
        "Single bit rotation matrices"
      ]
    },
    {
      "cell_type": "code",
      "execution_count": 117,
      "metadata": {},
      "outputs": [],
      "source": [
        "# single bit rotation matrices\n",
        "def _ri(si, theta):\n",
        "    return np.cos(theta/2.)*I2 - 1j*np.sin(theta/2.)*si\n",
        "\n",
        "def rot(t1, t2, t3):\n",
        "    '''\n",
        "    a general rotation gate rz(t3)rx(r2)rz(t1).\n",
        "\n",
        "    Args:\n",
        "        t1, t2, t3 (float): three angles.\n",
        "\n",
        "    Returns:\n",
        "        2x2 csr_matrix: rotation matrix.\n",
        "    '''\n",
        "    return _ri(sz, t3).dot(_ri(sx, t2)).dot(_ri(sz, t1))\n"
      ]
    },
    {
      "cell_type": "markdown",
      "metadata": {},
      "source": [
        "Multiple bit construction"
      ]
    },
    {
      "cell_type": "code",
      "execution_count": 118,
      "metadata": {},
      "outputs": [],
      "source": [
        "# multiple bit construction\n",
        "def CNOT(ibit, jbit, n):\n",
        "    '''\n",
        "    CNOT gate\n",
        "    \n",
        "    Args:\n",
        "        ibit (int): control bit.\n",
        "        jbit (int): controled bit.\n",
        "        n (int): total number of qubits.\n",
        "        \n",
        "    Returns:\n",
        "        4x4 csr_matrix: CNOT matrix.\n",
        "    '''\n",
        "    res = _([p0, I2], [ibit, jbit], n)\n",
        "    res = res + _([p1, sx], [ibit, jbit], n)\n",
        "    return res\n",
        "\n",
        "def _(ops, locs, n):\n",
        "    '''\n",
        "    Compile operators into specific Hilbert space.\n",
        "\n",
        "    notice the last bit is the high end bit!\n",
        "\n",
        "    Args:\n",
        "        ops (list): list of single bit operators.\n",
        "        locs (list): list of positions.\n",
        "        n (int): total number of bits.\n",
        "\n",
        "    Returns:\n",
        "        csr_matrix: resulting matrix.\n",
        "    '''\n",
        "    if np.ndim(locs) == 0:\n",
        "        locs = [locs]\n",
        "    if not isinstance(ops, (list, tuple)):\n",
        "        ops = [ops]\n",
        "    locs = np.asarray(locs)\n",
        "    locs = n - locs\n",
        "    order = np.argsort(locs)\n",
        "    locs = np.concatenate([[0], locs[order], [n + 1]])\n",
        "    return _wrap_identity([ops[i] for i in order], np.diff(locs) - 1)\n",
        "\n",
        "\n",
        "def _wrap_identity(data_list, num_bit_list):\n",
        "    if len(num_bit_list) != len(data_list) + 1:\n",
        "        raise Exception()\n",
        "\n",
        "    res = sps.eye(2**num_bit_list[0])\n",
        "    for data, nbit in zip(data_list, num_bit_list[1:]):\n",
        "        res = sps.kron(res, data)\n",
        "        res = sps.kron(res, sps.eye(2**nbit, dtype='complex128'))\n",
        "    return res\n",
        "\n"
      ]
    },
    {
      "cell_type": "markdown",
      "metadata": {},
      "source": [
        "Initial wave function"
      ]
    },
    {
      "cell_type": "code",
      "execution_count": 119,
      "metadata": {},
      "outputs": [],
      "source": [
        "def initial_wf(num_bit):\n",
        "    '''initial wave function |00...0>.'''\n",
        "    wf = np.zeros(2**num_bit, dtype='complex128')\n",
        "    wf[0] = 1.\n",
        "    return wf"
      ]
    },
    {
      "cell_type": "code",
      "execution_count": 120,
      "metadata": {},
      "outputs": [],
      "source": [
        "class ArbitraryRotation(object):\n",
        "    '''Arbitrary rotation gate'''\n",
        "    def __init__(self, num_bit):\n",
        "        self.num_bit = num_bit\n",
        "        # mask is used to filter out some irrelevant (marked False) parameters\n",
        "        self.mask = np.array([True] * (3*num_bit), dtype='bool')\n",
        "\n",
        "    @property\n",
        "    def num_param(self):\n",
        "        return self.mask.sum()\n",
        "\n",
        "    def tocsr(self, theta_list):\n",
        "        '''transform this block to a sequence of csr_matrices.'''\n",
        "        theta_list_ = np.zeros(3*self.num_bit)\n",
        "        theta_list_[self.mask] = theta_list\n",
        "        rots = [rot(*ths) for ths in theta_list_.reshape([self.num_bit,3])]\n",
        "        res = [_([r], [i], self.num_bit) for i,r in enumerate(rots)]\n",
        "        return res\n",
        "\n",
        "class CNOTEntangler(object):\n",
        "    '''\n",
        "    CNOT Entangler Layer.\n",
        "    \n",
        "    Args:\n",
        "        pairs (list): a list of tuples to represent connections.\n",
        "    '''\n",
        "    def __init__(self, num_bit, pairs):\n",
        "        self.num_bit = num_bit\n",
        "        self.pairs = pairs\n",
        "\n",
        "    @property\n",
        "    def num_param(self):\n",
        "        return 0\n",
        "\n",
        "    def tocsr(self, theta_list):\n",
        "        '''transform this block to a sequence of csr_matrices.'''\n",
        "        i, j = self.pairs[0]\n",
        "        res = CNOT(i, j, self.num_bit)\n",
        "        for i, j in self.pairs[1:]:\n",
        "            res = CNOT(i,j,self.num_bit).dot(res)\n",
        "        res.eliminate_zeros()\n",
        "        return [res]"
      ]
    },
    {
      "cell_type": "markdown",
      "metadata": {},
      "source": [
        "# Circuit\n",
        "A circuit is consist of queued layers, here this data structure is `BlockQueue`. A `BlockQueue` uses `theta_last` and `memo` attributes to cache sparse operators, this will accelerate simulation significantly."
      ]
    },
    {
      "cell_type": "code",
      "execution_count": 121,
      "metadata": {},
      "outputs": [],
      "source": [
        "class BlockQueue(list):\n",
        "    '''\n",
        "    Block Queue that keep track of theta_list changing history, for fast update.\n",
        "    \n",
        "    Attributes:\n",
        "        theta_last (1darray): the cached circuit parameters.\n",
        "        memo (list): cached sparse matrices for layers.\n",
        "    '''\n",
        "    def __init__(self, *args):\n",
        "        list.__init__(self, *args)\n",
        "        self.theta_last = None\n",
        "        self.memo = None\n",
        "\n",
        "    def __call__(self, qureg, theta_list):\n",
        "        '''\n",
        "        Apply operations on vector basis: qureg. This operation changes vector inplace.\n",
        "        \n",
        "        Args:\n",
        "            qureg (1darray): vector basis.\n",
        "            theta_list (1darray): circuit parameters:\n",
        "        '''\n",
        "        # cache? if theta_list change <= 1 parameters, then don't touch memory.\n",
        "        remember = self.theta_last is None or (abs(self.theta_last-theta_list)>1e-12).sum() > 1\n",
        "\n",
        "        mats = []\n",
        "        theta_last = self.theta_last\n",
        "        if remember:\n",
        "            self.theta_last = theta_list.copy()\n",
        "\n",
        "        qureg_ = qureg\n",
        "        for iblock, block in enumerate(self):\n",
        "            # generate or use a block matrix\n",
        "            num_param = block.num_param\n",
        "            theta_i, theta_list = np.split(theta_list, [num_param])\n",
        "            if theta_last is not None:\n",
        "                theta_o, theta_last = np.split(theta_last, [num_param])\n",
        "            if self.memo is not None and (num_param==0 or np.abs(theta_i-theta_o).max()<1e-12):\n",
        "                # use data cached in memory\n",
        "                mat = self.memo[iblock]\n",
        "            else:\n",
        "                if self.memo is not None and not remember:\n",
        "                    # update the changed gate, but not touching memory.\n",
        "                    mat = _rot_tocsr_update1(block, self.memo[iblock], theta_o, theta_i)\n",
        "                else:\n",
        "                    # regenerate one\n",
        "                    mat = block.tocsr(theta_i)\n",
        "            for mat_i in mat:\n",
        "                qureg_ = mat_i.dot(qureg_)\n",
        "            mats.append(mat)\n",
        "\n",
        "        if remember:\n",
        "            # cache data\n",
        "            self.memo = mats\n",
        "        # update register\n",
        "        qureg[...] = qureg_\n",
        "        np.testing.assert_(len(theta_list)==0)\n",
        "        \n",
        "    @property\n",
        "    def num_bit(self):\n",
        "        return self[0].num_bit\n",
        "\n",
        "    @property\n",
        "    def num_param(self):\n",
        "        return sum([b.num_param for b in self])\n",
        "\n",
        "def _rot_tocsr_update1(layer, old, theta_old, theta_new):\n",
        "    '''\n",
        "    rotation layer csr_matrices update method.\n",
        "    \n",
        "    Args:\n",
        "        layer (ArbitraryRotation): rotation layer.\n",
        "        old (csr_matrix): old matrices.\n",
        "        theta_old (1darray): old parameters.\n",
        "        theta_new (1darray): new parameters.\n",
        "\n",
        "    Returns:\n",
        "        list of csr_matrix: new rotation matrices after the theta changed.\n",
        "    '''\n",
        "    idiff_param = np.where(abs(theta_old-theta_new)>1e-12)[0].item()\n",
        "    idiff = np.where(layer.mask)[0][idiff_param]\n",
        "\n",
        "    # get rotation parameters\n",
        "    isite = idiff//3\n",
        "    theta_list_ = np.zeros(3*layer.num_bit)\n",
        "    theta_list_[layer.mask] = theta_new\n",
        "    \n",
        "    new = old[:]\n",
        "    new[isite] = _(rot(*theta_list_[isite*3:isite*3+3]), isite, layer.num_bit)\n",
        "    return new"
      ]
    },
    {
      "cell_type": "code",
      "execution_count": 122,
      "metadata": {},
      "outputs": [],
      "source": [
        "def get_nn_pairs(num_bit):\n",
        "    '''get nearest neighbor pairs.'''\n",
        "    res = []\n",
        "    for inth in range(2):\n",
        "        for i in range(inth, num_bit, 2):\n",
        "            res = res + [(i, i_ % num_bit) for i_ in range(i + 1, i + 2)]\n",
        "    return res\n",
        "\n",
        "def get_demo_circuit(num_bit, depth, pairs):\n",
        "    '''Get the circuit used for demo'''\n",
        "    blocks = []\n",
        "    # build circuit\n",
        "    for idepth in range(depth+1):\n",
        "        blocks.append(ArbitraryRotation(num_bit))\n",
        "        if idepth!=depth:\n",
        "            blocks.append(CNOTEntangler(num_bit, pairs))\n",
        "\n",
        "    # set leading and trailing Rz to disabled\n",
        "    blocks[0].mask[::3] = False\n",
        "    blocks[-1].mask[2::3] = False\n",
        "    return BlockQueue(blocks)"
      ]
    },
    {
      "cell_type": "code",
      "execution_count": 123,
      "metadata": {},
      "outputs": [
        {
          "name": "stdout",
          "output_type": "stream",
          "text": [
            "[<__main__.ArbitraryRotation object at 0x7fcaab60df00>, <__main__.CNOTEntangler object at 0x7fcaab55d8a0>, <__main__.ArbitraryRotation object at 0x7fcaab55dcc0>, <__main__.CNOTEntangler object at 0x7fcaab55f910>, <__main__.ArbitraryRotation object at 0x7fcaab55dea0>, <__main__.CNOTEntangler object at 0x7fcaab55ebf0>, <__main__.ArbitraryRotation object at 0x7fcaab55ffd0>, <__main__.CNOTEntangler object at 0x7fcaab55cd30>, <__main__.ArbitraryRotation object at 0x7fcaab55caf0>, <__main__.CNOTEntangler object at 0x7fcaab55c580>, <__main__.ArbitraryRotation object at 0x7fcaab55ee00>, <__main__.CNOTEntangler object at 0x7fcaab55d270>, <__main__.ArbitraryRotation object at 0x7fcaab55eaa0>]\n"
          ]
        }
      ],
      "source": [
        "# let's see how this circuit look like\n",
        "depth = 6\n",
        "num_bit = 6\n",
        "pairs = get_nn_pairs(num_bit)\n",
        "circuit = get_demo_circuit(num_bit, depth, pairs)\n",
        "print(circuit)"
      ]
    },
    {
      "cell_type": "code",
      "execution_count": 124,
      "metadata": {},
      "outputs": [
        {
          "name": "stdout",
          "output_type": "stream",
          "text": [
            "[0.70710678+0.j         0.        +0.j         0.        +0.j\n",
            " 0.        +0.j         0.        +0.j         0.        +0.j\n",
            " 0.        +0.j         0.        +0.j         0.        +0.j\n",
            " 0.        +0.j         0.        +0.j         0.        +0.j\n",
            " 0.        +0.j         0.        +0.j         0.        +0.j\n",
            " 0.        +0.j         0.        +0.j         0.        +0.j\n",
            " 0.        +0.j         0.        +0.j         0.        +0.j\n",
            " 0.        +0.j         0.        +0.j         0.        +0.j\n",
            " 0.        +0.j         0.        +0.j         0.        +0.j\n",
            " 0.        +0.j         0.        +0.j         0.        +0.j\n",
            " 0.        +0.j         0.        +0.j         0.        -0.70710678j\n",
            " 0.        +0.j         0.        +0.j         0.        +0.j\n",
            " 0.        +0.j         0.        +0.j         0.        +0.j\n",
            " 0.        +0.j         0.        +0.j         0.        +0.j\n",
            " 0.        +0.j         0.        +0.j         0.        +0.j\n",
            " 0.        +0.j         0.        +0.j         0.        +0.j\n",
            " 0.        +0.j         0.        +0.j         0.        +0.j\n",
            " 0.        +0.j         0.        +0.j         0.        +0.j\n",
            " 0.        +0.j         0.        +0.j         0.        +0.j\n",
            " 0.        +0.j         0.        +0.j         0.        +0.j\n",
            " 0.        +0.j         0.        +0.j         0.        +0.j\n",
            " 0.        +0.j        ]\n"
          ]
        }
      ],
      "source": [
        "# let's see how this circuit works\n",
        "# rotating the last bit along x axis by pi/2.\n",
        "theta_list = np.zeros(circuit.num_param)\n",
        "theta_list[-1] = np.pi/2.\n",
        "\n",
        "wf = initial_wf(num_bit)\n",
        "circuit(wf, theta_list)\n",
        "\n",
        "# now you see the last bit is the high end bit!\n",
        "print(wf)"
      ]
    }
  ],
  "metadata": {
    "colab": {
      "provenance": []
    },
    "kernelspec": {
      "display_name": "Python 3",
      "name": "python3"
    },
    "language_info": {
      "codemirror_mode": {
        "name": "ipython",
        "version": 3
      },
      "file_extension": ".py",
      "mimetype": "text/x-python",
      "name": "python",
      "nbconvert_exporter": "python",
      "pygments_lexer": "ipython3",
      "version": "3.10.12"
    }
  },
  "nbformat": 4,
  "nbformat_minor": 0
}
