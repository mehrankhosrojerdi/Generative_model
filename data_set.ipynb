{
  "cells": [
    {
      "cell_type": "markdown",
      "metadata": {},
      "source": [
        "### <span style=\"color:red;\"> Preparing Training Data </span>\n",
        "#### In generative model first of all we have to make a training data set as a target that in the following steps will help discriminator to compare the results of generative model with targets.\n",
        "#### Two type of the dataset are considered in this article \n",
        "#### <span style=\"color:green;\">Bars_and_Stripes dataset </span>  and <span style=\"color:blue;\"> the Gaussians dataset  </span>\n"
      ]
    },
    {
      "cell_type": "code",
      "execution_count": 13,
      "metadata": {},
      "outputs": [],
      "source": [
        "#! /usr/bin/python3\n",
        "import numpy as np\n",
        "import matplotlib.pyplot as plt\n"
      ]
    },
    {
      "cell_type": "markdown",
      "metadata": {},
      "source": [
        "### <span style=\"color:green;\">Bars_and_Stripes dataset </span>"
      ]
    },
    {
      "cell_type": "code",
      "execution_count": 44,
      "metadata": {},
      "outputs": [],
      "source": [
        "def digit_basis(geometry): # geometry like (4,4), np.arrange(5), or ([1,2,3,4,5])\n",
        "    num_bit = np.prod(geometry)\n",
        "    M = 2**num_bit\n",
        "    x = np.arange(M)\n",
        "    return x\n",
        "\n",
        "def unpacknbits(arr, nbit, axis=-1):\n",
        "    '''unpack numbers to bitstrings.'''\n",
        "    nd = np.ndim(arr)\n",
        "    if axis < 0:\n",
        "        axis = nd + axis\n",
        "    return (((arr & (1 << np.arange(nbit - 1, -1, -1)).reshape([-1] + [1] * (nd - axis - 1)))) > 0).astype('int8')\n",
        "\n",
        "def binary_basis(geometry): # geometry like (4,)\n",
        "    num_bit = np.prod(geometry)\n",
        "    M = 2**num_bit\n",
        "    x = np.arange(M)\n",
        "    return unpacknbits(x[:,None], num_bit).reshape((-1,)+geometry)\n",
        "\n",
        "def is_bs(samples):\n",
        "    '''a sample is a bar or a stripe.'''\n",
        "    return (np.abs(np.diff(samples,axis=-1)).sum(axis=(1,2))==0)|((np.abs(np.diff(samples, axis=1)).sum(axis=(1,2)))==0)\n",
        "\n",
        "def barstripe_pdf(geometry): # geometry like (3,3)\n",
        "    '''get bar and stripes PDF'''\n",
        "    x = binary_basis(geometry)\n",
        "    pl = is_bs(x)\n",
        "    return pl/pl.sum()\n"
      ]
    },
    {
      "cell_type": "markdown",
      "metadata": {},
      "source": [
        "Example of Bar Strips dataset"
      ]
    },
    {
      "cell_type": "code",
      "execution_count": 45,
      "metadata": {},
      "outputs": [
        {
          "data": {
            "text/plain": [
              "[<matplotlib.lines.Line2D at 0x7f153f8a5960>]"
            ]
          },
          "execution_count": 45,
          "metadata": {},
          "output_type": "execute_result"
        },
        {
          "data": {
            "image/png": "[encoded data removed]",
            "text/plain": [
              "<Figure size 432x288 with 1 Axes>"
            ]
          },
          "metadata": {
            "needs_background": "light"
          },
          "output_type": "display_data"
        }
      ],
      "source": [
        "x = digit_basis(geometry=(3,3)) # this geometry represent 9 qubits\n",
        "y = barstripe_pdf(geometry=(3,3))\n",
        "plt.plot(x,y)\n"
      ]
    },
    {
      "cell_type": "markdown",
      "metadata": {},
      "source": [
        "### <span style=\"color:blue;\"> The Gaussians dataset  </span>"
      ]
    },
    {
      "cell_type": "code",
      "execution_count": 29,
      "metadata": {},
      "outputs": [],
      "source": [
        "def digit_basis(geometry): # geometry like (4,4), np.arrange(5), or ([1,2,3,4,5])\n",
        "    num_bit = np.prod(geometry)\n",
        "    M = 2**num_bit\n",
        "    x = np.arange(M)\n",
        "    return x\n",
        "\n",
        "def gaussian_pdf(geometry, mu, sigma):\n",
        "    '''get gaussian distribution function'''\n",
        "    x = digit_basis(geometry)\n",
        "    pl = 1. / np.sqrt(2 * np.pi * sigma**2) * \\\n",
        "        np.exp(-(x - mu)**2 / (2. * sigma**2))\n",
        "    return pl/pl.sum()"
      ]
    },
    {
      "cell_type": "markdown",
      "metadata": {},
      "source": [
        "Example of Guassians Dataset"
      ]
    },
    {
      "cell_type": "code",
      "execution_count": 32,
      "metadata": {},
      "outputs": [
        {
          "data": {
            "text/plain": [
              "[<matplotlib.lines.Line2D at 0x7f153f9bde70>]"
            ]
          },
          "execution_count": 32,
          "metadata": {},
          "output_type": "execute_result"
        },
        {
          "data": {
            "image/png": "[encoded data removed]",
            "text/plain": [
              "<Figure size 432x288 with 1 Axes>"
            ]
          },
          "metadata": {
            "needs_background": "light"
          },
          "output_type": "display_data"
        }
      ],
      "source": [
        "x = digit_basis(geometry=(3,3)) # this geometry represent 9 qbits\n",
        "y = gaussian_pdf(geometry=(3,3),mu=250,sigma=100)\n",
        "plt.plot(x,y)"
      ]
    }
  ],
  "metadata": {
    "colab": {
      "provenance": []
    },
    "kernelspec": {
      "display_name": "Python 3",
      "name": "python3"
    },
    "language_info": {
      "codemirror_mode": {
        "name": "ipython",
        "version": 3
      },
      "file_extension": ".py",
      "mimetype": "text/x-python",
      "name": "python",
      "nbconvert_exporter": "python",
      "pygments_lexer": "ipython3",
      "version": "3.10.12"
    }
  },
  "nbformat": 4,
  "nbformat_minor": 0
}
