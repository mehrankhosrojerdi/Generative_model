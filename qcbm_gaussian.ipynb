{
 "cells": [
  {
   "cell_type": "code",
   "execution_count": 1,
   "metadata": {
    "colab": {
     "autoexec": {
      "startup": false,
      "wait_interval": 0
     }
    },
    "colab_type": "code",
    "collapsed": true,
    "id": "hHqdDh5Bl_uF"
   },
   "outputs": [],
   "source": [
    "import numpy as np\n",
    "import matplotlib.pyplot as plt\n",
    "import scipy.sparse as sps"
   ]
  },
  {
   "cell_type": "markdown",
   "metadata": {
    "colab_type": "text",
    "id": "9Po0tv6fl_uR"
   },
   "source": [
    "# training set\n",
    "Our training set is a simple Gaussian distribution, which means that we consider them s a real data. In fact, our discriminator will evaluate the fake data that are produced by the generator (Quantum Circuit) by the real data."
   ]
  },
  {
   "cell_type": "code",
   "execution_count": 2,
   "metadata": {
    "colab": {
     "autoexec": {
      "startup": false,
      "wait_interval": 0
     },
     "base_uri": "https://localhost:8080/",
     "height": 348
    },
    "colab_type": "code",
    "executionInfo": {
     "elapsed": 1081,
     "status": "ok",
     "timestamp": 1523077605597,
     "user": {
      "displayName": "刘金国",
      "photoUrl": "//lh3.googleusercontent.com/-lDAT81T3HSE/AAAAAAAAAAI/AAAAAAAAAgw/eH3JEob7M1Y/s50-c-k-no/photo.jpg",
      "userId": "116824001998056121289"
     },
     "user_tz": -480
    },
    "id": "Ds9tMSqAl_uU",
    "outputId": "0340dbd8-8e0a-441a-e443-5dcf50ec8162"
   },
   "outputs": [
    {
     "data": {
      "image/png": "[encoded data removed]",
      "text/plain": [
       "<Figure size 640x480 with 1 Axes>"
      ]
     },
     "metadata": {},
     "output_type": "display_data"
    }
   ],
   "source": [
    "def gaussian_pdf(num_bit, mu, sigma):\n",
    "    '''get gaussian distribution function'''\n",
    "    x = np.arange(2**num_bit)\n",
    "    pl = 1. / np.sqrt(2 * np.pi * sigma**2) * \\\n",
    "        np.exp(-(x - mu)**2 / (2. * sigma**2))\n",
    "    return pl/pl.sum()\n",
    "\n",
    "num_bit = 6\n",
    "pg = gaussian_pdf(num_bit, mu=2**5-0.5, sigma=2**4)\n",
    "plt.plot(pg)\n",
    "plt.show()"
   ]
  },
  {
   "cell_type": "markdown",
   "metadata": {
    "colab_type": "text",
    "id": "99B1jfKfl_ud"
   },
   "source": [
    "# Build Circuits\n",
    "## Building Blocks\n",
    "Define matrix representations of operations using scipy sparse matrices.\n",
    "They are grouped to become a layer in a circuit, this layer can be `ArbitraryRotation` or `CNOTEntangler`.\n",
    "Which are used as our basic building blocks of our `Born Machines`."
   ]
  },
  {
   "cell_type": "code",
   "execution_count": 3,
   "metadata": {
    "colab": {
     "autoexec": {
      "startup": false,
      "wait_interval": 0
     }
    },
    "colab_type": "code",
    "collapsed": true,
    "id": "kYr3mt1rl_uf"
   },
   "outputs": [],
   "source": [
    "######  Pauli Matrices  ########\n",
    "I2 = sps.eye(2).tocsr()\n",
    "sx = sps.csr_matrix([[0,1],[1,0.]])\n",
    "sy = sps.csr_matrix([[0,-1j],[1j,0.]])\n",
    "sz = sps.csr_matrix([[1,0],[0,-1.]])\n",
    "\n",
    "p0 = (sz + I2) / 2   #projection operator to |0><0|\n",
    "p1 = (-sz + I2) / 2\n",
    "\n",
    "# single bit rotation matrices\n",
    "def _ri(si, theta):\n",
    "    return np.cos(theta/2.)*I2 - 1j*np.sin(theta/2.)*si\n",
    "\n",
    "def rot(t1, t2, t3):\n",
    "    '''\n",
    "    a general rotation gate rz(t3)rx(r2)rz(t1).\n",
    "\n",
    "    Args:\n",
    "        t1, t2, t3 (float): three angles.\n",
    "\n",
    "    Returns:\n",
    "        2x2 csr_matrix: rotation matrix.\n",
    "    '''\n",
    "    return _ri(sz, t3).dot(_ri(sx, t2)).dot(_ri(sz, t1))\n",
    "\n",
    "# multiple bit construction\n",
    "def CNOT(ibit, jbit, n):\n",
    "    '''\n",
    "    CNOT gate\n",
    "    \n",
    "    Args:\n",
    "        ibit (int): control bit.\n",
    "        jbit (int): controled bit.\n",
    "        n (int): total number of qubits.\n",
    "        \n",
    "    Returns:\n",
    "        4x4 csr_matrix: CNOT matrix.\n",
    "    '''\n",
    "    res = _([p0, I2], [ibit, jbit], n)\n",
    "    res = res + _([p1, sx], [ibit, jbit], n)\n",
    "    return res\n",
    "\n",
    "def _(ops, locs, n):\n",
    "    '''\n",
    "    Compile operators into specific Hilbert space.\n",
    "\n",
    "    notice the last bit is the high end bit!\n",
    "\n",
    "    Args:\n",
    "        ops (list): list of single bit operators.\n",
    "        locs (list): list of positions.\n",
    "        n (int): total number of bits.\n",
    "\n",
    "    Returns:\n",
    "        csr_matrix: resulting matrix.\n",
    "    '''\n",
    "    if np.ndim(locs) == 0:\n",
    "        locs = [locs]\n",
    "    if not isinstance(ops, (list, tuple)):\n",
    "        ops = [ops]\n",
    "    locs = np.asarray(locs)\n",
    "    locs = n - locs\n",
    "    order = np.argsort(locs)\n",
    "    locs = np.concatenate([[0], locs[order], [n + 1]])\n",
    "    return _wrap_identity([ops[i] for i in order], np.diff(locs) - 1)\n",
    "\n",
    "\n",
    "def _wrap_identity(data_list, num_bit_list):\n",
    "    if len(num_bit_list) != len(data_list) + 1:\n",
    "        raise Exception()\n",
    "\n",
    "    res = sps.eye(2**num_bit_list[0])\n",
    "    for data, nbit in zip(data_list, num_bit_list[1:]):\n",
    "        res = sps.kron(res, data)\n",
    "        res = sps.kron(res, sps.eye(2**nbit, dtype='complex128'))\n",
    "    return res\n",
    "\n",
    "\n",
    "def initial_wf(num_bit):\n",
    "    '''initial wave function |00...0>.'''\n",
    "    wf = np.zeros(2**num_bit, dtype='complex128')\n",
    "    wf[0] = 1.\n",
    "    return wf"
   ]
  },
  {
   "cell_type": "code",
   "execution_count": 4,
   "metadata": {
    "colab": {
     "autoexec": {
      "startup": false,
      "wait_interval": 0
     }
    },
    "colab_type": "code",
    "collapsed": true,
    "id": "1MBVIfw3l_ul"
   },
   "outputs": [],
   "source": [
    "class ArbitraryRotation(object):\n",
    "    '''Arbitrary rotation gate'''\n",
    "    def __init__(self, num_bit):\n",
    "        self.num_bit = num_bit\n",
    "        # mask is used to filter out some irrelevant (marked False) parameters\n",
    "        self.mask = np.array([True] * (3*num_bit), dtype='bool')\n",
    "\n",
    "    @property\n",
    "    def num_param(self):\n",
    "        return self.mask.sum()\n",
    "\n",
    "    def tocsr(self, theta_list):\n",
    "        '''transform this block to a sequence of csr_matrices.'''\n",
    "        theta_list_ = np.zeros(3*self.num_bit)\n",
    "        theta_list_[self.mask] = theta_list\n",
    "        rots = [rot(*ths) for ths in theta_list_.reshape([self.num_bit,3])]\n",
    "        res = [_([r], [i], self.num_bit) for i,r in enumerate(rots)]\n",
    "        return res\n",
    "\n",
    "class CNOTEntangler(object):\n",
    "    '''\n",
    "    CNOT Entangler Layer.\n",
    "    \n",
    "    Args:\n",
    "        pairs (list): a list of tuples to represent connections.\n",
    "    '''\n",
    "    def __init__(self, num_bit, pairs):\n",
    "        self.num_bit = num_bit\n",
    "        self.pairs = pairs\n",
    "\n",
    "    @property\n",
    "    def num_param(self):\n",
    "        return 0\n",
    "\n",
    "    def tocsr(self, theta_list):\n",
    "        '''transform this block to a sequence of csr_matrices.'''\n",
    "        i, j = self.pairs[0]\n",
    "        res = CNOT(i, j, self.num_bit)\n",
    "        for i, j in self.pairs[1:]:\n",
    "            res = CNOT(i,j,self.num_bit).dot(res)\n",
    "        res.eliminate_zeros()\n",
    "        return [res]"
   ]
  },
  {
   "cell_type": "markdown",
   "metadata": {
    "colab_type": "text",
    "id": "8dR6z_Sjl_uo"
   },
   "source": [
    "# Circuit\n",
    "A circuit is consist of queued layers, here this data structure is `BlockQueue`. A `BlockQueue` uses `theta_last` and `memo` attributes to cache sparse operators, this will accelerate simulation significantly."
   ]
  },
  {
   "cell_type": "code",
   "execution_count": 5,
   "metadata": {
    "colab": {
     "autoexec": {
      "startup": false,
      "wait_interval": 0
     }
    },
    "colab_type": "code",
    "collapsed": true,
    "id": "ax0MxiMSl_up"
   },
   "outputs": [],
   "source": [
    "class BlockQueue(list):\n",
    "    '''\n",
    "    Block Queue that keep track of theta_list changing history, for fast update.\n",
    "    \n",
    "    Attributes:\n",
    "        theta_last (1darray): the cached circuit parameters.\n",
    "        memo (list): cached sparse matrices for layers.\n",
    "    '''\n",
    "    def __init__(self, *args):\n",
    "        list.__init__(self, *args)\n",
    "        self.theta_last = None\n",
    "        self.memo = None\n",
    "\n",
    "    def __call__(self, qureg, theta_list):\n",
    "        '''\n",
    "        Apply operations on vector basis: qureg. This operation changes vector inplace.\n",
    "        \n",
    "        Args:\n",
    "            qureg (1darray): vector basis.\n",
    "            theta_list (1darray): circuit parameters:\n",
    "        '''\n",
    "        # cache? if theta_list change <= 1 parameters, then don't touch memory.\n",
    "        remember = self.theta_last is None or (abs(self.theta_last-theta_list)>1e-12).sum() > 1\n",
    "\n",
    "        mats = []\n",
    "        theta_last = self.theta_last\n",
    "        if remember:\n",
    "            self.theta_last = theta_list.copy()\n",
    "\n",
    "        qureg_ = qureg\n",
    "        for iblock, block in enumerate(self):\n",
    "            # generate or use a block matrix\n",
    "            num_param = block.num_param\n",
    "            theta_i, theta_list = np.split(theta_list, [num_param])\n",
    "            if theta_last is not None:\n",
    "                theta_o, theta_last = np.split(theta_last, [num_param])\n",
    "            if self.memo is not None and (num_param==0 or np.abs(theta_i-theta_o).max()<1e-12):\n",
    "                # use data cached in memory\n",
    "                mat = self.memo[iblock]\n",
    "            else:\n",
    "                if self.memo is not None and not remember:\n",
    "                    # update the changed gate, but not touching memory.\n",
    "                    mat = _rot_tocsr_update1(block, self.memo[iblock], theta_o, theta_i)\n",
    "                else:\n",
    "                    # regenerate one\n",
    "                    mat = block.tocsr(theta_i)\n",
    "            for mat_i in mat:\n",
    "                qureg_ = mat_i.dot(qureg_)\n",
    "            mats.append(mat)\n",
    "\n",
    "        if remember:\n",
    "            # cache data\n",
    "            self.memo = mats\n",
    "        # update register\n",
    "        qureg[...] = qureg_\n",
    "        np.testing.assert_(len(theta_list)==0)\n",
    "        \n",
    "    @property\n",
    "    def num_bit(self):\n",
    "        return self[0].num_bit\n",
    "\n",
    "    @property\n",
    "    def num_param(self):\n",
    "        return sum([b.num_param for b in self])\n",
    "\n",
    "def _rot_tocsr_update1(layer, old, theta_old, theta_new):\n",
    "    '''\n",
    "    rotation layer csr_matrices update method.\n",
    "    \n",
    "    Args:\n",
    "        layer (ArbitraryRotation): rotation layer.\n",
    "        old (csr_matrix): old matrices.\n",
    "        theta_old (1darray): old parameters.\n",
    "        theta_new (1darray): new parameters.\n",
    "\n",
    "    Returns:\n",
    "        list of csr_matrix: new rotation matrices after the theta changed.\n",
    "    '''\n",
    "    idiff_param = np.where(abs(theta_old-theta_new)>1e-12)[0].item()\n",
    "    idiff = np.where(layer.mask)[0][idiff_param]\n",
    "\n",
    "    # get rotation parameters\n",
    "    isite = idiff//3\n",
    "    theta_list_ = np.zeros(3*layer.num_bit)\n",
    "    theta_list_[layer.mask] = theta_new\n",
    "    \n",
    "    new = old[:]\n",
    "    new[isite] = _(rot(*theta_list_[isite*3:isite*3+3]), isite, layer.num_bit)\n",
    "    return new"
   ]
  },
  {
   "cell_type": "code",
   "execution_count": 6,
   "metadata": {
    "colab": {
     "autoexec": {
      "startup": false,
      "wait_interval": 0
     }
    },
    "colab_type": "code",
    "collapsed": true,
    "id": "pPa44pmWl_ur"
   },
   "outputs": [],
   "source": [
    "def get_nn_pairs(num_bit):\n",
    "    '''get nearest neighbor pairs.'''\n",
    "    res = []\n",
    "    for inth in range(2):\n",
    "        for i in range(inth, num_bit, 2):\n",
    "            res = res + [(i, i_ % num_bit) for i_ in range(i + 1, i + 2)]\n",
    "    return res\n",
    "\n",
    "def get_demo_circuit(num_bit, depth, pairs):\n",
    "    '''Get the circuit used for demo'''\n",
    "    blocks = []\n",
    "    # build circuit\n",
    "    for idepth in range(depth+1):\n",
    "        blocks.append(ArbitraryRotation(num_bit))\n",
    "        if idepth!=depth:\n",
    "            blocks.append(CNOTEntangler(num_bit, pairs))\n",
    "\n",
    "    # set leading and trailing Rz to disabled\n",
    "    blocks[0].mask[::3] = False\n",
    "    blocks[-1].mask[2::3] = False\n",
    "    return BlockQueue(blocks)"
   ]
  },
  {
   "cell_type": "code",
   "execution_count": 7,
   "metadata": {
    "colab": {
     "autoexec": {
      "startup": false,
      "wait_interval": 0
     },
     "base_uri": "https://localhost:8080/",
     "height": 55
    },
    "colab_type": "code",
    "executionInfo": {
     "elapsed": 1228,
     "status": "ok",
     "timestamp": 1523077612959,
     "user": {
      "displayName": "刘金国",
      "photoUrl": "//lh3.googleusercontent.com/-lDAT81T3HSE/AAAAAAAAAAI/AAAAAAAAAgw/eH3JEob7M1Y/s50-c-k-no/photo.jpg",
      "userId": "116824001998056121289"
     },
     "user_tz": -480
    },
    "id": "ksYpVLV9l_ut",
    "outputId": "e3e2d50f-5a3e-466c-952a-6aee8e114adf"
   },
   "outputs": [
    {
     "name": "stdout",
     "output_type": "stream",
     "text": [
      "[<__main__.ArbitraryRotation object at 0x7f44a8b6e6e0>, <__main__.CNOTEntangler object at 0x7f44a8b6d330>, <__main__.ArbitraryRotation object at 0x7f44a8b6e350>, <__main__.CNOTEntangler object at 0x7f44a8b6e1d0>, <__main__.ArbitraryRotation object at 0x7f44a8b6e3b0>, <__main__.CNOTEntangler object at 0x7f44a8b6c970>, <__main__.ArbitraryRotation object at 0x7f44a8b6d990>, <__main__.CNOTEntangler object at 0x7f44a8b6d1e0>, <__main__.ArbitraryRotation object at 0x7f44a8b6f940>, <__main__.CNOTEntangler object at 0x7f44a8b6df60>, <__main__.ArbitraryRotation object at 0x7f44a8b6f7c0>, <__main__.CNOTEntangler object at 0x7f44a8b6da20>, <__main__.ArbitraryRotation object at 0x7f44a8b6c940>]\n"
     ]
    }
   ],
   "source": [
    "# let's see how this circuit look like\n",
    "depth = 6\n",
    "pairs = get_nn_pairs(num_bit)\n",
    "circuit = get_demo_circuit(num_bit, depth, pairs)\n",
    "print(circuit)"
   ]
  },
  {
   "cell_type": "code",
   "execution_count": 8,
   "metadata": {
    "colab": {
     "autoexec": {
      "startup": false,
      "wait_interval": 0
     },
     "base_uri": "https://localhost:8080/",
     "height": 404
    },
    "colab_type": "code",
    "executionInfo": {
     "elapsed": 1375,
     "status": "ok",
     "timestamp": 1523077614782,
     "user": {
      "displayName": "刘金国",
      "photoUrl": "//lh3.googleusercontent.com/-lDAT81T3HSE/AAAAAAAAAAI/AAAAAAAAAgw/eH3JEob7M1Y/s50-c-k-no/photo.jpg",
      "userId": "116824001998056121289"
     },
     "user_tz": -480
    },
    "id": "iXCJDkXUl_ux",
    "outputId": "542a73d8-5ffb-4548-b323-302f8cb55765"
   },
   "outputs": [
    {
     "name": "stdout",
     "output_type": "stream",
     "text": [
      "[0.70710678+0.j         0.        +0.j         0.        +0.j\n",
      " 0.        +0.j         0.        +0.j         0.        +0.j\n",
      " 0.        +0.j         0.        +0.j         0.        +0.j\n",
      " 0.        +0.j         0.        +0.j         0.        +0.j\n",
      " 0.        +0.j         0.        +0.j         0.        +0.j\n",
      " 0.        +0.j         0.        +0.j         0.        +0.j\n",
      " 0.        +0.j         0.        +0.j         0.        +0.j\n",
      " 0.        +0.j         0.        +0.j         0.        +0.j\n",
      " 0.        +0.j         0.        +0.j         0.        +0.j\n",
      " 0.        +0.j         0.        +0.j         0.        +0.j\n",
      " 0.        +0.j         0.        +0.j         0.        -0.70710678j\n",
      " 0.        +0.j         0.        +0.j         0.        +0.j\n",
      " 0.        +0.j         0.        +0.j         0.        +0.j\n",
      " 0.        +0.j         0.        +0.j         0.        +0.j\n",
      " 0.        +0.j         0.        +0.j         0.        +0.j\n",
      " 0.        +0.j         0.        +0.j         0.        +0.j\n",
      " 0.        +0.j         0.        +0.j         0.        +0.j\n",
      " 0.        +0.j         0.        +0.j         0.        +0.j\n",
      " 0.        +0.j         0.        +0.j         0.        +0.j\n",
      " 0.        +0.j         0.        +0.j         0.        +0.j\n",
      " 0.        +0.j         0.        +0.j         0.        +0.j\n",
      " 0.        +0.j        ]\n"
     ]
    }
   ],
   "source": [
    "# let's see how this circuit works\n",
    "# rotating the last bit along x axis by pi/2.\n",
    "theta_list = np.zeros(circuit.num_param)\n",
    "theta_list[-1] = np.pi/2.\n",
    "\n",
    "wf = initial_wf(num_bit)\n",
    "circuit(wf, theta_list)\n",
    "\n",
    "# now you see the last bit is the high end bit!\n",
    "print(wf)"
   ]
  },
  {
   "cell_type": "markdown",
   "metadata": {
    "colab_type": "text",
    "id": "ZyeNb3A3l_uz"
   },
   "source": [
    "# Maximum mean Discrepancy (MMD) Loss Function\n",
    "Basically, loss function will tell us how well the model is doing. There are different forms of the loss functions that we use them depend on the situation. In this article the idea is to compare the distance in the kernel feature space on the samples drawn from the target and the model distributions.\n",
    "We refer the following loss function as the squared `Maximum Mean Discrepancy` (MMD).\n",
    "\n",
    "As a reminder\n",
    "\\begin{align}\n",
    "    \\mathcal{L} =&  \\left\\|\\sum_{x} p_\\theta(x) \\phi(x)- \\sum_{x} \\pi(x) \\phi(x)  \\right\\|^2  =&\\langle K(x,y)\\rangle_{x\\sim p_\\theta, y\\sim p_\\theta}-2\\langle K(x,y)\\rangle_{x\\sim p_\\theta,y\\sim \\pi}+\\langle K(x, y)\\rangle_{x\\sim \\pi,y\\sim \\pi}\n",
    "\\end{align}\n"
   ]
  },
  {
   "cell_type": "code",
   "execution_count": 9,
   "metadata": {
    "colab": {
     "autoexec": {
      "startup": false,
      "wait_interval": 0
     }
    },
    "colab_type": "code",
    "collapsed": true,
    "id": "rNaRWyALl_u0"
   },
   "outputs": [],
   "source": [
    "class RBFMMD2(object):\n",
    "    '''\n",
    "    MMD^2 with RBF (Gaussian) kernel.\n",
    "    \n",
    "    Args:\n",
    "        sigma_list (list): a list of bandwidths.\n",
    "        basis (1darray): defininng space.\n",
    "      \n",
    "    Attributes:\n",
    "        K (2darray): full kernel matrix, notice the Hilbert is countable.\n",
    "    '''\n",
    "    def __init__(self, sigma_list, basis):\n",
    "        self.sigma_list = sigma_list\n",
    "        self.basis = basis\n",
    "        self.K = mix_rbf_kernel(basis, basis, self.sigma_list)\n",
    "\n",
    "    def __call__(self, px, py):\n",
    "        '''\n",
    "        Args:\n",
    "            px (1darray, default=None): probability for data set x, used only when self.is_exact==True.\n",
    "            py (1darray, default=None): same as px, but for data set y.\n",
    "\n",
    "        Returns:\n",
    "            float: loss.\n",
    "        '''\n",
    "        pxy = px-py\n",
    "        return self.kernel_expect(pxy, pxy)\n",
    "\n",
    "    def kernel_expect(self, px, py):\n",
    "        '''\n",
    "        expectation value of kernel function.\n",
    "        \n",
    "        Args:\n",
    "            px (1darray): the first PDF.\n",
    "            py (1darray): the second PDF.\n",
    "            \n",
    "        Returns:\n",
    "            float: kernel expectation.\n",
    "        '''\n",
    "        return px.dot(self.K).dot(py)\n",
    "\n",
    "def mix_rbf_kernel(x, y, sigma_list):\n",
    "    '''\n",
    "    multi-RBF kernel.\n",
    "    \n",
    "    Args:\n",
    "        x (1darray|2darray): the collection of samples A.\n",
    "        x (1darray|2darray): the collection of samples B.\n",
    "        sigma_list (list): a list of bandwidths.\n",
    "        \n",
    "    Returns:\n",
    "        2darray: kernel matrix.\n",
    "    '''\n",
    "    ndim = x.ndim\n",
    "    if ndim == 1:\n",
    "        exponent = np.abs(x[:, None] - y[None, :])**2\n",
    "    elif ndim == 2:\n",
    "        exponent = ((x[:, None, :] - y[None, :, :])**2).sum(axis=2)\n",
    "    else:\n",
    "        raise\n",
    "    K = 0.0\n",
    "    for sigma in sigma_list:\n",
    "        gamma = 1.0 / (2 * sigma)\n",
    "        K = K + np.exp(-gamma * exponent)\n",
    "    return K"
   ]
  },
  {
   "cell_type": "markdown",
   "metadata": {},
   "source": [
    "<span style='color:red'> It would be interesting to mentioned that in MMD loss function we compare the difference between the real data and fake data.  <span>  \n",
    "\n",
    "<span style= 'color:green'>In the following examples we can see that this loss function work correctly so that when we choose same wave function, the value of the loss function is zero and in contrast, when we choose different wave function we can see that their Kernels have different results and consequently their loss function is non-zero<span>"
   ]
  },
  {
   "cell_type": "code",
   "execution_count": 10,
   "metadata": {
    "colab": {
     "autoexec": {
      "startup": false,
      "wait_interval": 0
     },
     "base_uri": "https://localhost:8080/",
     "height": 52
    },
    "colab_type": "code",
    "executionInfo": {
     "elapsed": 900,
     "status": "ok",
     "timestamp": 1523078667244,
     "user": {
      "displayName": "刘金国",
      "photoUrl": "//lh3.googleusercontent.com/-lDAT81T3HSE/AAAAAAAAAAI/AAAAAAAAAgw/eH3JEob7M1Y/s50-c-k-no/photo.jpg",
      "userId": "116824001998056121289"
     },
     "user_tz": -480
    },
    "id": "rqgpurrWjasl",
    "outputId": "e0aef7f3-d598-4e15-e16d-7c518fa02711"
   },
   "outputs": [
    {
     "name": "stdout",
     "output_type": "stream",
     "text": [
      "Exact Match -> MMD = 0.0000\n",
      "Not Match -> MMD = 0.0346\n"
     ]
    }
   ],
   "source": [
    "hndim = 2**num_bit\n",
    "# mmd loss\n",
    "mmd = RBFMMD2(sigma_list=[0.25,4], basis=np.arange(2**num_bit))\n",
    "\n",
    "# when exact match, MMD loss should be 0, e.g. two gaussians\n",
    "print('Exact Match -> MMD = %.4f'%mmd(pg, pg))\n",
    "# when not match, loss is not zero\n",
    "prand = np.random.random(len(pg))\n",
    "print('Not Match -> MMD = %.4f'%mmd(prand/prand.sum(), pg))"
   ]
  },
  {
   "cell_type": "markdown",
   "metadata": {
    "colab_type": "text",
    "id": "He6uVgqzl_u2"
   },
   "source": [
    "# Build The Gradient training framework for Born Machine\n",
    "To learn the QCBM as a generative model, we compute gradient of the loss function with respect to the circuit parameters. We have got to minimize the `Maximum mean Discrepancy(MMD)` and for this we should use the gradient of MMD loss as follow\n",
    "\\begin{align}\n",
    "\\frac{\\partial \\mathcal{L}}{\\partial \\theta_l^i} &= \\langle K(x,y) \\rangle_{x \\sim p_{\\theta^+}, y \\sim p_\\theta} - \\langle K(x,y) \\rangle_{x \\sim p_{\\theta^-}, y \\sim p_\\theta} - \\langle K(x,y) \\rangle_{x \\sim p_{\\theta^+}, y \\sim \\pi} + \\langle K(x,y) \\rangle_{x \\sim p_{\\theta^-}, y \\sim \\pi}.\n",
    "\\end{align}\n"
   ]
  },
  {
   "cell_type": "code",
   "execution_count": 11,
   "metadata": {
    "colab": {
     "autoexec": {
      "startup": false,
      "wait_interval": 0
     }
    },
    "colab_type": "code",
    "collapsed": true,
    "id": "3tRLpcrQl_u3"
   },
   "outputs": [],
   "source": [
    "class QCBM(object):\n",
    "    '''\n",
    "    Quantum Circuit Born Machine framework,\n",
    "\n",
    "    Args:\n",
    "        circuit (BlockQueue): the circuit architechture.\n",
    "        mmd (RBFMMD2): maximum mean discrepancy.\n",
    "        p_data (1darray): data probability distribution in computation basis.\n",
    "        batch_size (int|None): introducing sampling error, None for no sampling error.\n",
    "    '''\n",
    "    def __init__(self, circuit, mmd, p_data, batch_size=None):\n",
    "        self.circuit = circuit\n",
    "        self.mmd = mmd\n",
    "        self.p_data = p_data\n",
    "        self.batch_size = batch_size\n",
    "\n",
    "    @property\n",
    "    def depth(self):\n",
    "        '''defined by the number of entanglers'''\n",
    "        return (len(self.circuit)-1)//2\n",
    "\n",
    "    def pdf(self, theta_list):\n",
    "        '''\n",
    "        get probability distribution function.\n",
    "        \n",
    "        Args:\n",
    "            theta_list (1darray): circuit parameters.\n",
    "            \n",
    "        Returns:\n",
    "            1darray: probability distribution function.\n",
    "        '''\n",
    "        wf = initial_wf(self.circuit.num_bit)\n",
    "        self.circuit(wf, theta_list)\n",
    "        pl = np.abs(wf)**2\n",
    "        # introducing sampling error\n",
    "        if self.batch_size is not None:\n",
    "            pl = prob_from_sample(sample_from_prob(np.arange(len(pl)), pl, self.batch_size),\n",
    "                    len(pl))\n",
    "        return pl\n",
    "\n",
    "    def mmd_loss(self, theta_list):\n",
    "        '''get the loss'''\n",
    "        # get and cahe probability distritbution of Born Machine\n",
    "        self._prob = self.pdf(theta_list)\n",
    "        # use wave function to get mmd loss\n",
    "        return self.mmd(self._prob, self.p_data)\n",
    "\n",
    "    def gradient(self, theta_list):\n",
    "        '''\n",
    "        cheat and get gradient.\n",
    "        '''\n",
    "        prob = self.pdf(theta_list)\n",
    "        grad = []\n",
    "        for i in range(len(theta_list)):\n",
    "            # pi/2 phase\n",
    "            theta_list[i] += np.pi/2.\n",
    "            prob_pos = self.pdf(theta_list)\n",
    "            # -pi/2 phase\n",
    "            theta_list[i] -= np.pi\n",
    "            prob_neg = self.pdf(theta_list)\n",
    "            # recover\n",
    "            theta_list[i] += np.pi/2.\n",
    "\n",
    "            grad_pos = self.mmd.kernel_expect(prob, prob_pos) - self.mmd.kernel_expect(prob, prob_neg)\n",
    "            grad_neg = self.mmd.kernel_expect(self.p_data, prob_pos) - self.mmd.kernel_expect(self.p_data, prob_neg)\n",
    "            grad.append(grad_pos - grad_neg)\n",
    "        return np.array(grad)\n",
    "\n",
    "    def gradient_numerical(self, theta_list, delta=1e-2):\n",
    "        '''\n",
    "        numerical differenciation.\n",
    "        '''\n",
    "        grad = []\n",
    "        for i in range(len(theta_list)):\n",
    "            theta_list[i] += delta/2.\n",
    "            loss_pos = self.mmd_loss(theta_list)\n",
    "            theta_list[i] -= delta\n",
    "            loss_neg = self.mmd_loss(theta_list)\n",
    "            theta_list[i] += delta/2.\n",
    "\n",
    "            grad_i = (loss_pos - loss_neg)/delta\n",
    "            grad.append(grad_i)\n",
    "        return np.array(grad)\n",
    "    \n",
    "def sample_from_prob(x, pl, num_sample):\n",
    "    '''\n",
    "    sample x ~ pl.\n",
    "    '''\n",
    "    pl = 1. / pl.sum() * pl\n",
    "    indices = np.arange(len(x))\n",
    "    res = np.random.choice(indices, num_sample, p=pl)\n",
    "    return np.array([x[r] for r in res])\n",
    "\n",
    "\n",
    "def prob_from_sample(dataset, hndim):\n",
    "    '''\n",
    "    emperical probability from data.\n",
    "    '''\n",
    "    p_data = np.bincount(dataset, minlength=hndim)\n",
    "    p_data = p_data / float(np.sum(p_data))\n",
    "    return p_data"
   ]
  },
  {
   "cell_type": "code",
   "execution_count": 12,
   "metadata": {
    "colab": {
     "autoexec": {
      "startup": false,
      "wait_interval": 0
     }
    },
    "colab_type": "code",
    "collapsed": true,
    "id": "rhdRmpOgl_u5"
   },
   "outputs": [],
   "source": [
    "# Born Machine\n",
    "bm = QCBM(circuit, mmd, pg, batch_size=None)  # exact version"
   ]
  },
  {
   "cell_type": "code",
   "execution_count": 13,
   "metadata": {
    "colab": {
     "autoexec": {
      "startup": false,
      "wait_interval": 0
     },
     "base_uri": "https://localhost:8080/",
     "height": 35
    },
    "colab_type": "code",
    "executionInfo": {
     "elapsed": 727,
     "status": "ok",
     "timestamp": 1523078674207,
     "user": {
      "displayName": "刘金国",
      "photoUrl": "//lh3.googleusercontent.com/-lDAT81T3HSE/AAAAAAAAAAI/AAAAAAAAAgw/eH3JEob7M1Y/s50-c-k-no/photo.jpg",
      "userId": "116824001998056121289"
     },
     "user_tz": -480
    },
    "id": "fsOlbsLBl_u8",
    "outputId": "557124c6-687a-44d1-ccca-c4eb5d7d887e"
   },
   "outputs": [
    {
     "name": "stdout",
     "output_type": "stream",
     "text": [
      "MMD loss for Initial Circuit = 0.0522\n"
     ]
    }
   ],
   "source": [
    "theta_list = np.random.random(bm.circuit.num_param)*2*np.pi\n",
    "print('MMD loss for Initial Circuit = %.4f'%bm.mmd_loss(theta_list))"
   ]
  },
  {
   "cell_type": "code",
   "execution_count": 14,
   "metadata": {
    "colab": {
     "autoexec": {
      "startup": false,
      "wait_interval": 0
     },
     "base_uri": "https://localhost:8080/",
     "height": 686
    },
    "colab_type": "code",
    "executionInfo": {
     "elapsed": 2344,
     "status": "ok",
     "timestamp": 1523078677878,
     "user": {
      "displayName": "刘金国",
      "photoUrl": "//lh3.googleusercontent.com/-lDAT81T3HSE/AAAAAAAAAAI/AAAAAAAAAgw/eH3JEob7M1Y/s50-c-k-no/photo.jpg",
      "userId": "116824001998056121289"
     },
     "user_tz": -480
    },
    "id": "I-OXkiy6l_vB",
    "outputId": "c9a71940-ed8b-4644-c205-bedf7619c088"
   },
   "outputs": [
    {
     "name": "stdout",
     "output_type": "stream",
     "text": [
      "[-9.82222164e-03 -1.35973823e-04 -2.59814621e-03  9.48580486e-03\n",
      " -8.00445463e-03  6.86221116e-03 -2.27295058e-04  4.10518870e-03\n",
      "  1.91804485e-03  7.92816595e-03 -2.21499086e-02 -7.60774742e-03\n",
      "  5.98894487e-03 -1.26340745e-02 -5.74842635e-03  9.73106967e-03\n",
      " -2.18252838e-03 -5.11478534e-03  1.03840619e-02  6.31204688e-03\n",
      "  1.18615647e-02  1.32589755e-02  1.53124384e-02  1.02068039e-02\n",
      " -2.36482515e-04  7.52461534e-03  4.30507697e-03  4.68993332e-03\n",
      " -1.08083015e-02  3.97160262e-03  6.62224975e-03  9.94840178e-03\n",
      "  1.39647416e-02 -4.60275176e-03  1.84502434e-04  3.45041178e-03\n",
      " -1.72278649e-03 -6.53457831e-03 -5.16093155e-03  9.78733613e-03\n",
      " -8.55363966e-04  6.82271095e-03 -1.47207881e-02 -2.15398031e-03\n",
      " -3.59548466e-03  3.27663444e-03 -6.28974168e-03  7.76776539e-03\n",
      "  7.18947793e-03  7.50891680e-03 -1.38963527e-03 -3.74941918e-03\n",
      "  6.74494049e-04  9.23061921e-03  1.30918626e-02 -6.48930653e-03\n",
      " -2.16702205e-03  5.41676162e-03 -1.26440718e-02  5.08269789e-03\n",
      " -9.20989446e-03 -1.12575940e-02 -1.31830018e-02  4.09138152e-03\n",
      " -1.71692780e-02 -1.17743391e-02  1.32897171e-02 -2.41561970e-02\n",
      " -3.46000542e-04 -2.01454395e-03 -4.02102067e-03  3.36974087e-04\n",
      " -1.18326103e-02 -1.82272625e-02 -1.90878470e-02  6.90801326e-03\n",
      "  8.01723252e-03 -5.71624763e-03 -1.63669268e-02 -2.83216733e-03\n",
      " -2.48759678e-02 -7.63941429e-03  1.32730955e-02 -1.65851424e-02\n",
      " -8.04597145e-03 -6.00163997e-03  9.05960107e-05 -3.46335058e-03\n",
      "  1.13015728e-03  8.68805225e-04 -1.04476953e-02 -1.07729131e-02\n",
      " -2.76801556e-03  2.22079745e-02 -7.18469000e-03  1.82750940e-04\n",
      "  2.00046349e-03 -7.68841460e-03  3.89912168e-03 -1.09353089e-02\n",
      " -1.45144635e-02  6.40680029e-03  1.66511899e-03  7.64878867e-03\n",
      " -4.68787256e-03 -2.28271259e-03 -1.51700683e-03 -1.57250976e-03\n",
      "  2.16742317e-03  4.88061792e-03  1.07176657e-02 -1.41086028e-02\n",
      " -3.94205239e-04 -8.47231826e-03]\n",
      "[-9.82202928e-03 -1.35973083e-04 -2.59809364e-03  9.48571201e-03\n",
      " -8.00436981e-03  6.86216030e-03 -2.27203057e-04  4.10518872e-03\n",
      "  1.91804252e-03  7.92814119e-03 -2.21497248e-02 -7.60777191e-03\n",
      "  5.98896439e-03 -1.26338662e-02 -5.74844762e-03  9.73097492e-03\n",
      " -2.18257115e-03 -5.11476709e-03  1.03840093e-02  6.31198105e-03\n",
      "  1.18613971e-02  1.32588879e-02  1.53122558e-02  1.02068575e-02\n",
      " -2.36495578e-04  7.52457906e-03  4.30503097e-03  4.68996535e-03\n",
      " -1.08081594e-02  3.97165522e-03  6.62222428e-03  9.94829806e-03\n",
      "  1.39646976e-02 -4.60270668e-03  1.84509610e-04  3.45039244e-03\n",
      " -1.72273185e-03 -6.53453607e-03 -5.16097369e-03  9.78731958e-03\n",
      " -8.55299799e-04  6.82261771e-03 -1.47207098e-02 -2.15405736e-03\n",
      " -3.59544958e-03  3.27650957e-03 -6.28967255e-03  7.76766463e-03\n",
      "  7.18953545e-03  7.50885092e-03 -1.38974678e-03 -3.74944269e-03\n",
      "  6.74477223e-04  9.23052205e-03  1.30918468e-02 -6.48928362e-03\n",
      " -2.16704855e-03  5.41670234e-03 -1.26438968e-02  5.08263437e-03\n",
      " -9.20986517e-03 -1.12575949e-02 -1.31828975e-02  4.09128754e-03\n",
      " -1.71691361e-02 -1.17741983e-02  1.32896479e-02 -2.41560341e-02\n",
      " -3.46006398e-04 -2.01445925e-03 -4.02106073e-03  3.36900427e-04\n",
      " -1.18324375e-02 -1.82271946e-02 -1.90877685e-02  6.90788683e-03\n",
      "  8.01704420e-03 -5.71625503e-03 -1.63668524e-02 -2.83214315e-03\n",
      " -2.48758268e-02 -7.63944647e-03  1.32730407e-02 -1.65850380e-02\n",
      " -8.04590775e-03 -6.00155571e-03  9.06064772e-05 -3.46330842e-03\n",
      "  1.13014833e-03  8.68818461e-04 -1.04475594e-02 -1.07728006e-02\n",
      " -2.76797734e-03  2.22078490e-02 -7.18460608e-03  1.82706267e-04\n",
      "  2.00045250e-03 -7.68833022e-03  3.89911122e-03 -1.09352642e-02\n",
      " -1.45144276e-02  6.40678733e-03  1.66512230e-03  7.64866978e-03\n",
      " -4.68786545e-03 -2.28269409e-03 -1.51699966e-03 -1.57257940e-03\n",
      "  2.16740229e-03  4.88066699e-03  1.07176181e-02 -1.41085189e-02\n",
      " -3.94203586e-04 -8.47221656e-03]\n"
     ]
    }
   ],
   "source": [
    "# gradient test\n",
    "# these two gradients should match.\n",
    "g1 = bm.gradient(theta_list)\n",
    "print(g1)\n",
    "g2 = bm.gradient_numerical(theta_list)\n",
    "print(g2)"
   ]
  },
  {
   "cell_type": "markdown",
   "metadata": {
    "colab_type": "text",
    "id": "u7m6D8jBl_vE"
   },
   "source": [
    "# Training\n",
    "In this basic introduction, I prepaired classical training method like `Adam` and `L-BFGS-B` (as well as other methods supported by scipy)."
   ]
  },
  {
   "cell_type": "code",
   "execution_count": 15,
   "metadata": {
    "colab": {
     "autoexec": {
      "startup": false,
      "wait_interval": 0
     }
    },
    "colab_type": "code",
    "collapsed": true,
    "id": "jtvCimfRl_vF"
   },
   "outputs": [],
   "source": [
    "  def train(bm, theta_list, method, max_iter=1000, step_rate=0.1):\n",
    "    '''\n",
    "    train a Born Machine.\n",
    "    \n",
    "    Args:\n",
    "        bm (QCBM): quantum circuit born machine training strategy.\n",
    "        theta_list (1darray): initial parameters.\n",
    "        method ('Adam'|'L-BFGS-B'):\n",
    "            * L-BFGS-B: efficient, but not noise tolerant.\n",
    "            * Adam: noise tolerant.\n",
    "        max_iter (int): maximum allowed number of iterations.\n",
    "        step_rate (float): learning rate for Adam optimizer.\n",
    "        \n",
    "    Returns:\n",
    "        (float, 1darray): final loss and parameters.\n",
    "    '''\n",
    "    step = [0]\n",
    "    def callback(x, *args, **kwargs):\n",
    "        step[0] += 1\n",
    "        print('step = %d, loss = %s'%(step[0], bm.mmd_loss(x)))\n",
    "        \n",
    "    theta_list = np.array(theta_list)\n",
    "    if method == 'Adam':\n",
    "        try:\n",
    "            from climin import Adam\n",
    "        except:\n",
    "            !pip install git+https://github.com/BRML/climin.git\n",
    "            from climin import Adam\n",
    "        optimizer = Adam(wrt=theta_list, fprime=bm.gradient,step_rate=step_rate)\n",
    "        for info in optimizer:\n",
    "            callback(theta_list)\n",
    "            if step[0] == max_iter:\n",
    "                break\n",
    "        return bm.mmd_loss(theta_list), theta_list\n",
    "    else:\n",
    "        from scipy.optimize import minimize\n",
    "        res = minimize(bm.mmd_loss, x0=theta_list,\n",
    "                       method=method, jac = bm.gradient, tol=1e-12,\n",
    "                       options={'maxiter': max_iter, 'disp': 0, 'gtol':1e-10, 'ftol':0},\n",
    "                       callback=callback,\n",
    "                       )\n",
    "        return res.fun, res.x"
   ]
  },
  {
   "cell_type": "markdown",
   "metadata": {},
   "source": [
    "`L-BFGS-B method is used as a gradient descent`"
   ]
  },
  {
   "cell_type": "code",
   "execution_count": 18,
   "metadata": {
    "colab": {
     "autoexec": {
      "startup": false,
      "wait_interval": 0
     },
     "base_uri": "https://localhost:8080/",
     "height": 718
    },
    "colab_type": "code",
    "executionInfo": {
     "elapsed": 22631,
     "status": "ok",
     "timestamp": 1523078706459,
     "user": {
      "displayName": "刘金国",
      "photoUrl": "//lh3.googleusercontent.com/-lDAT81T3HSE/AAAAAAAAAAI/AAAAAAAAAgw/eH3JEob7M1Y/s50-c-k-no/photo.jpg",
      "userId": "116824001998056121289"
     },
     "user_tz": -480
    },
    "id": "-AqBAGQll_vH",
    "outputId": "4a9a1d31-4eb9-4e58-c287-f94e1362d9db"
   },
   "outputs": [
    {
     "name": "stdout",
     "output_type": "stream",
     "text": [
      "step = 1, loss = 0.013605914056604296\n",
      "step = 2, loss = 0.008935071304502083\n",
      "step = 3, loss = 0.005720449478313325\n",
      "step = 4, loss = 0.004251139957380224\n",
      "step = 5, loss = 0.003237183644063907\n",
      "step = 6, loss = 0.002846379543031877\n",
      "step = 7, loss = 0.002004763313654917\n",
      "step = 8, loss = 0.001719770788482131\n",
      "step = 9, loss = 0.001190725954222756\n",
      "step = 10, loss = 0.0009238635108909512\n",
      "step = 11, loss = 0.0007114792663185652\n",
      "step = 12, loss = 0.0005704936640416867\n",
      "step = 13, loss = 0.0004531990602096718\n",
      "step = 14, loss = 0.0003581811337881045\n",
      "step = 15, loss = 0.0002760699619187352\n",
      "step = 16, loss = 0.0002231438603620522\n",
      "step = 17, loss = 0.00018110535872691756\n",
      "step = 18, loss = 0.00015120513591693205\n",
      "step = 19, loss = 0.0001307383060749151\n",
      "step = 20, loss = 0.0001119444731614476\n"
     ]
    },
    {
     "data": {
      "image/png": "[encoded data removed]",
      "text/plain": [
       "<Figure size 640x480 with 1 Axes>"
      ]
     },
     "metadata": {},
     "output_type": "display_data"
    }
   ],
   "source": [
    "# random initial parameter\n",
    "theta_list = np.random.random(bm.circuit.num_param)*2*np.pi\n",
    "\n",
    "loss, theta_list = train(bm, theta_list, 'L-BFGS-B', max_iter=20)\n",
    "pl = bm.pdf(theta_list)\n",
    "\n",
    "# display training result\n",
    "plt.plot(bm.p_data) # this is the real data\n",
    "plt.plot(pl) # this is the fake data\n",
    "plt.legend(['Data', 'Quantum Circuit Born Machine'])\n",
    "plt.show()"
   ]
  },
  {
   "cell_type": "markdown",
   "metadata": {},
   "source": [
    "`Adam method is used as a gradient descent`"
   ]
  },
  {
   "cell_type": "code",
   "execution_count": 19,
   "metadata": {
    "colab": {
     "autoexec": {
      "startup": false,
      "wait_interval": 0
     }
    },
    "colab_type": "code",
    "collapsed": true,
    "id": "X334bsZyl_vK"
   },
   "outputs": [
    {
     "name": "stdout",
     "output_type": "stream",
     "text": [
      "step = 1, loss = 0.022764791263827435\n",
      "step = 2, loss = 0.011401119005394733\n",
      "step = 3, loss = 0.012196982432380257\n",
      "step = 4, loss = 0.012481625000022237\n",
      "step = 5, loss = 0.012114372460683774\n",
      "step = 6, loss = 0.009384768741343086\n",
      "step = 7, loss = 0.007179570190743315\n",
      "step = 8, loss = 0.006845588047523495\n",
      "step = 9, loss = 0.006361201367647091\n",
      "step = 10, loss = 0.004238996524203096\n",
      "step = 11, loss = 0.004050210789305261\n",
      "step = 12, loss = 0.005443982691344731\n",
      "step = 13, loss = 0.0040382945528114\n",
      "step = 14, loss = 0.0025924104620695778\n",
      "step = 15, loss = 0.002944606478569033\n",
      "step = 16, loss = 0.0029898012134584725\n",
      "step = 17, loss = 0.0025204346825536076\n",
      "step = 18, loss = 0.002297847182016616\n",
      "step = 19, loss = 0.0020114120913852993\n",
      "step = 20, loss = 0.0016468132929271322\n"
     ]
    },
    {
     "data": {
      "image/png": "[encoded data removed]",
      "text/plain": [
       "<Figure size 640x480 with 1 Axes>"
      ]
     },
     "metadata": {},
     "output_type": "display_data"
    }
   ],
   "source": [
    "# random initial parameter\n",
    "theta_list = np.random.random(bm.circuit.num_param)*2*np.pi\n",
    "\n",
    "loss, theta_list = train(bm, theta_list, 'Adam', max_iter=20)\n",
    "pl = bm.pdf(theta_list)\n",
    "\n",
    "# display training result\n",
    "plt.plot(bm.p_data) # this is the real data\n",
    "plt.plot(pl) # this is the fake data\n",
    "plt.legend(['Data', 'Quantum Circuit Born Machine'])\n",
    "plt.show()"
   ]
  }
 ],
 "metadata": {
  "colab": {
   "collapsed_sections": [],
   "default_view": {},
   "name": "qcbm_gaussian.ipynb",
   "provenance": [],
   "version": "0.3.2",
   "views": {}
  },
  "kernelspec": {
   "display_name": "Python 3",
   "language": "python",
   "name": "python3"
  },
  "language_info": {
   "codemirror_mode": {
    "name": "ipython",
    "version": 3
   },
   "file_extension": ".py",
   "mimetype": "text/x-python",
   "name": "python",
   "nbconvert_exporter": "python",
   "pygments_lexer": "ipython3",
   "version": "3.10.12"
  }
 },
 "nbformat": 4,
 "nbformat_minor": 1
}
